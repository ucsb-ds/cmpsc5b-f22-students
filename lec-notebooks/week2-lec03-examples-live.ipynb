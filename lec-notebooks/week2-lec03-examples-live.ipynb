{
 "cells": [
  {
   "cell_type": "code",
   "execution_count": 2,
   "metadata": {},
   "outputs": [],
   "source": [
    "from datascience import *\n",
    "import numpy as np\n",
    "\n",
    "%matplotlib inline\n",
    "import matplotlib.pyplot as plots\n",
    "plots.style.use('fivethirtyeight')"
   ]
  },
  {
   "cell_type": "markdown",
   "metadata": {},
   "source": [
    "## Example: Benford's Law"
   ]
  },
  {
   "cell_type": "code",
   "execution_count": 3,
   "metadata": {},
   "outputs": [
    {
     "data": {
      "text/plain": [
       "array([ 0.30103   ,  0.17609126,  0.12493874,  0.09691001,  0.07918125,\n",
       "        0.06694679,  0.05799195,  0.05115252,  0.04575749])"
      ]
     },
     "execution_count": 3,
     "metadata": {},
     "output_type": "execute_result"
    }
   ],
   "source": [
    "digits = np.arange(1, 10)\n",
    "benford_model = np.log10(1 + 1/digits)\n",
    "benford_model"
   ]
  },
  {
   "cell_type": "code",
   "execution_count": 4,
   "metadata": {},
   "outputs": [
    {
     "data": {
      "image/png": "[encoded data removed]",
      "text/plain": [
       "<Figure size 600x450 with 1 Axes>"
      ]
     },
     "metadata": {},
     "output_type": "display_data"
    }
   ],
   "source": [
    "benford = Table().with_columns(\n",
    "    'First digit', digits,\n",
    "    'Benford model prob', benford_model)\n",
    "benford.barh('First digit')"
   ]
  },
  {
   "cell_type": "code",
   "execution_count": 5,
   "metadata": {},
   "outputs": [],
   "source": [
    "# You don't have to understand how this function works, \n",
    "# since it uses Python features from beyond Data 8.\n",
    "def first_digit(num):\n",
    "    return int(str(num)[0])"
   ]
  },
  {
   "cell_type": "code",
   "execution_count": 7,
   "metadata": {},
   "outputs": [
    {
     "data": {
      "text/plain": [
       "int"
      ]
     },
     "execution_count": 7,
     "metadata": {},
     "output_type": "execute_result"
    }
   ],
   "source": [
    "type(first_digit(32))"
   ]
  },
  {
   "cell_type": "code",
   "execution_count": 8,
   "metadata": {
    "scrolled": true
   },
   "outputs": [
    {
     "data": {
      "text/plain": [
       "1"
      ]
     },
     "execution_count": 8,
     "metadata": {},
     "output_type": "execute_result"
    }
   ],
   "source": [
    "first_digit(17719087)"
   ]
  },
  {
   "cell_type": "code",
   "execution_count": 10,
   "metadata": {},
   "outputs": [
    {
     "data": {
      "text/html": [
       "<table border=\"1\" class=\"dataframe\">\n",
       "    <thead>\n",
       "        <tr>\n",
       "            <th>State</th> <th>County</th> <th>Population</th>\n",
       "        </tr>\n",
       "    </thead>\n",
       "    <tbody>\n",
       "        <tr>\n",
       "            <td>Alabama</td> <td>Autauga County  </td> <td>54684     </td>\n",
       "        </tr>\n",
       "        <tr>\n",
       "            <td>Alabama</td> <td>Baldwin County  </td> <td>183216    </td>\n",
       "        </tr>\n",
       "        <tr>\n",
       "            <td>Alabama</td> <td>Barbour County  </td> <td>27336     </td>\n",
       "        </tr>\n",
       "        <tr>\n",
       "            <td>Alabama</td> <td>Bibb County     </td> <td>22879     </td>\n",
       "        </tr>\n",
       "        <tr>\n",
       "            <td>Alabama</td> <td>Blount County   </td> <td>57344     </td>\n",
       "        </tr>\n",
       "        <tr>\n",
       "            <td>Alabama</td> <td>Bullock County  </td> <td>10886     </td>\n",
       "        </tr>\n",
       "        <tr>\n",
       "            <td>Alabama</td> <td>Butler County   </td> <td>20945     </td>\n",
       "        </tr>\n",
       "        <tr>\n",
       "            <td>Alabama</td> <td>Calhoun County  </td> <td>118443    </td>\n",
       "        </tr>\n",
       "        <tr>\n",
       "            <td>Alabama</td> <td>Chambers County </td> <td>34111     </td>\n",
       "        </tr>\n",
       "        <tr>\n",
       "            <td>Alabama</td> <td>Cherokee County </td> <td>25968     </td>\n",
       "        </tr>\n",
       "        <tr>\n",
       "            <td>Alabama</td> <td>Chilton County  </td> <td>43682     </td>\n",
       "        </tr>\n",
       "        <tr>\n",
       "            <td>Alabama</td> <td>Choctaw County  </td> <td>13849     </td>\n",
       "        </tr>\n",
       "        <tr>\n",
       "            <td>Alabama</td> <td>Clarke County   </td> <td>25782     </td>\n",
       "        </tr>\n",
       "        <tr>\n",
       "            <td>Alabama</td> <td>Clay County     </td> <td>13886     </td>\n",
       "        </tr>\n",
       "        <tr>\n",
       "            <td>Alabama</td> <td>Cleburne County </td> <td>14969     </td>\n",
       "        </tr>\n",
       "        <tr>\n",
       "            <td>Alabama</td> <td>Coffee County   </td> <td>50179     </td>\n",
       "        </tr>\n",
       "        <tr>\n",
       "            <td>Alabama</td> <td>Colbert County  </td> <td>54505     </td>\n",
       "        </tr>\n",
       "        <tr>\n",
       "            <td>Alabama</td> <td>Conecuh County  </td> <td>13219     </td>\n",
       "        </tr>\n",
       "        <tr>\n",
       "            <td>Alabama</td> <td>Coosa County    </td> <td>11757     </td>\n",
       "        </tr>\n",
       "        <tr>\n",
       "            <td>Alabama</td> <td>Covington County</td> <td>37784     </td>\n",
       "        </tr>\n",
       "    </tbody>\n",
       "</table>\n",
       "<p>... (3122 rows omitted)</p>"
      ],
      "text/plain": [
       "<IPython.core.display.HTML object>"
      ]
     },
     "metadata": {},
     "output_type": "display_data"
    }
   ],
   "source": [
    "# County populations from the census data\n",
    "counties = Table.read_table('data/counties.csv')\n",
    "counties = counties.where('SUMLEV', 50).select(5,6,9).relabeled(0,'State').relabeled(1,'County').relabeled(2,'Population')\n",
    "counties.show(20)"
   ]
  },
  {
   "cell_type": "code",
   "execution_count": 12,
   "metadata": {},
   "outputs": [
    {
     "data": {
      "text/html": [
       "<table border=\"1\" class=\"dataframe\">\n",
       "    <thead>\n",
       "        <tr>\n",
       "            <th>State</th> <th>County</th> <th>Population</th> <th>First digit</th>\n",
       "        </tr>\n",
       "    </thead>\n",
       "    <tbody>\n",
       "        <tr>\n",
       "            <td>Alabama</td> <td>Autauga County </td> <td>54684     </td> <td>5          </td>\n",
       "        </tr>\n",
       "        <tr>\n",
       "            <td>Alabama</td> <td>Baldwin County </td> <td>183216    </td> <td>1          </td>\n",
       "        </tr>\n",
       "        <tr>\n",
       "            <td>Alabama</td> <td>Barbour County </td> <td>27336     </td> <td>2          </td>\n",
       "        </tr>\n",
       "        <tr>\n",
       "            <td>Alabama</td> <td>Bibb County    </td> <td>22879     </td> <td>2          </td>\n",
       "        </tr>\n",
       "        <tr>\n",
       "            <td>Alabama</td> <td>Blount County  </td> <td>57344     </td> <td>5          </td>\n",
       "        </tr>\n",
       "        <tr>\n",
       "            <td>Alabama</td> <td>Bullock County </td> <td>10886     </td> <td>1          </td>\n",
       "        </tr>\n",
       "        <tr>\n",
       "            <td>Alabama</td> <td>Butler County  </td> <td>20945     </td> <td>2          </td>\n",
       "        </tr>\n",
       "        <tr>\n",
       "            <td>Alabama</td> <td>Calhoun County </td> <td>118443    </td> <td>1          </td>\n",
       "        </tr>\n",
       "        <tr>\n",
       "            <td>Alabama</td> <td>Chambers County</td> <td>34111     </td> <td>3          </td>\n",
       "        </tr>\n",
       "        <tr>\n",
       "            <td>Alabama</td> <td>Cherokee County</td> <td>25968     </td> <td>2          </td>\n",
       "        </tr>\n",
       "    </tbody>\n",
       "</table>\n",
       "<p>... (3132 rows omitted)</p>"
      ],
      "text/plain": [
       "<IPython.core.display.HTML object>"
      ]
     },
     "metadata": {},
     "output_type": "display_data"
    }
   ],
   "source": [
    "first_digits = counties.apply(first_digit, 'Population')\n",
    "counties = counties.with_column('First digit', first_digits)\n",
    "counties.show(10)"
   ]
  },
  {
   "cell_type": "code",
   "execution_count": 13,
   "metadata": {},
   "outputs": [],
   "source": [
    "num_counties = counties.num_rows"
   ]
  },
  {
   "cell_type": "code",
   "execution_count": 14,
   "metadata": {},
   "outputs": [
    {
     "data": {
      "image/png": "[encoded data removed]",
      "text/plain": [
       "<Figure size 600x450 with 1 Axes>"
      ]
     },
     "metadata": {},
     "output_type": "display_data"
    }
   ],
   "source": [
    "by_digit = counties.group('First digit')\n",
    "proportions = by_digit.column('count')/num_counties\n",
    "by_digit = by_digit.with_columns(\n",
    "    'Proportion', proportions,\n",
    "    'Benford proportion', benford_model\n",
    ")\n",
    "by_digit.drop('count').barh('First digit')"
   ]
  },
  {
   "cell_type": "markdown",
   "metadata": {},
   "source": [
    "Null hypothesis: Similarities in our Counties proportion and Benford's model are not due to chance"
   ]
  },
  {
   "cell_type": "markdown",
   "metadata": {},
   "source": [
    "Alternative hypothesis: Similarities in our Counties' propoportion and Benford's model are  due to chance."
   ]
  },
  {
   "cell_type": "markdown",
   "metadata": {},
   "source": [
    "Test statistic: TVD\n",
    "\n",
    "Fill in the blank with \"Bigger\" or \"Smaller\":\n",
    "\n",
    "Smaller values of the test statistic favor the alternative"
   ]
  },
  {
   "cell_type": "code",
   "execution_count": 15,
   "metadata": {},
   "outputs": [
    {
     "data": {
      "text/plain": [
       "array([ 0.30521961,  0.18777849,  0.11935073,  0.09770847,  0.06906429,\n",
       "        0.06556334,  0.05824316,  0.04901337,  0.04805856])"
      ]
     },
     "execution_count": 15,
     "metadata": {},
     "output_type": "execute_result"
    }
   ],
   "source": [
    "proportions"
   ]
  },
  {
   "cell_type": "code",
   "execution_count": 16,
   "metadata": {},
   "outputs": [
    {
     "data": {
      "text/plain": [
       "array([ 0.30103   ,  0.17609126,  0.12493874,  0.09691001,  0.07918125,\n",
       "        0.06694679,  0.05799195,  0.05115252,  0.04575749])"
      ]
     },
     "execution_count": 16,
     "metadata": {},
     "output_type": "execute_result"
    }
   ],
   "source": [
    "benford_model"
   ]
  },
  {
   "cell_type": "code",
   "execution_count": 17,
   "metadata": {},
   "outputs": [
    {
     "data": {
      "text/plain": [
       "array([ 0.00418961,  0.01168723,  0.005588  ,  0.00079845,  0.01011696,\n",
       "        0.00138345,  0.00025121,  0.00213916,  0.00230107])"
      ]
     },
     "execution_count": 17,
     "metadata": {},
     "output_type": "execute_result"
    }
   ],
   "source": [
    "abs(proportions - benford_model)"
   ]
  },
  {
   "cell_type": "code",
   "execution_count": 19,
   "metadata": {},
   "outputs": [
    {
     "data": {
      "text/plain": [
       "0.019227569718005828"
      ]
     },
     "execution_count": 19,
     "metadata": {},
     "output_type": "execute_result"
    }
   ],
   "source": [
    "sum(abs(proportions - benford_model))/2"
   ]
  },
  {
   "cell_type": "code",
   "execution_count": 20,
   "metadata": {},
   "outputs": [
    {
     "data": {
      "text/plain": [
       "0.019227569718005828"
      ]
     },
     "execution_count": 20,
     "metadata": {},
     "output_type": "execute_result"
    }
   ],
   "source": [
    "observed_tvd = sum(abs(proportions - benford_model))/2\n",
    "observed_tvd"
   ]
  },
  {
   "cell_type": "code",
   "execution_count": 21,
   "metadata": {},
   "outputs": [
    {
     "data": {
      "text/plain": [
       "array([ 0.30903883,  0.1744112 ,  0.11807766,  0.09420751,  0.07861235,\n",
       "        0.07161044,  0.06047104,  0.04774029,  0.04583068])"
      ]
     },
     "execution_count": 21,
     "metadata": {},
     "output_type": "execute_result"
    }
   ],
   "source": [
    "sample_proportions(num_counties, benford_model)\n",
    "# num_counties = num rows of original data set\n",
    "# population = all US counties, states only, not territories\n",
    "# simulate a population matching the original size of our data set, under the null\n",
    "# our similarities/differences in county data and benford model is not due to chance\n",
    "# should be similar, in other words"
   ]
  },
  {
   "cell_type": "code",
   "execution_count": 22,
   "metadata": {},
   "outputs": [
    {
     "data": {
      "text/plain": [
       "0.018668062702884135"
      ]
     },
     "execution_count": 22,
     "metadata": {},
     "output_type": "execute_result"
    }
   ],
   "source": [
    "simulated_frequencies = sample_proportions(num_counties, benford_model)\n",
    "tvd = sum(abs(simulated_frequencies - benford_model))/2\n",
    "tvd"
   ]
  },
  {
   "cell_type": "code",
   "execution_count": 23,
   "metadata": {},
   "outputs": [],
   "source": [
    "def simulate_county_first_digits():\n",
    "    simulated_frequencies = sample_proportions(num_counties, benford_model)\n",
    "    tvd = sum(abs(simulated_frequencies - benford_model))/2\n",
    "    return tvd"
   ]
  },
  {
   "cell_type": "code",
   "execution_count": 24,
   "metadata": {},
   "outputs": [],
   "source": [
    "simulated_tvds = make_array()\n",
    "\n",
    "for i in np.arange(10000):\n",
    "    simulated_tvds = np.append(simulated_tvds, simulate_county_first_digits())"
   ]
  },
  {
   "cell_type": "code",
   "execution_count": 27,
   "metadata": {},
   "outputs": [
    {
     "data": {
      "text/plain": [
       "<matplotlib.collections.PathCollection at 0x7f9b01e59cf0>"
      ]
     },
     "execution_count": 27,
     "metadata": {},
     "output_type": "execute_result"
    },
    {
     "data": {
      "image/png": "[encoded data removed]",
      "text/plain": [
       "<Figure size 600x400 with 1 Axes>"
      ]
     },
     "metadata": {},
     "output_type": "display_data"
    }
   ],
   "source": [
    "Table().with_column('Simulated TVD', simulated_tvds).hist(0)\n",
    "plots.scatter(observed_tvd, 0, color='red', s=30, zorder=3)\n",
    "\n",
    "#small values of tvd support null (left)\n",
    "# bigger values of tvd support alternative (right)\n",
    "\n",
    "# p-value is the proportion of simulated values that are equal to observed value (0.019....)\n",
    "# and further in direction of alternative (right)"
   ]
  },
  {
   "cell_type": "code",
   "execution_count": 26,
   "metadata": {},
   "outputs": [
    {
     "data": {
      "text/plain": [
       "0.4463"
      ]
     },
     "execution_count": 26,
     "metadata": {},
     "output_type": "execute_result"
    }
   ],
   "source": [
    "np.count_nonzero(simulated_tvds >= observed_tvd) / 10000\n",
    "# p-value\n",
    "# 44.63% > 5%\n",
    "# we fail to reject our null hypothesis \n",
    "# 44.63% of the time, we were able to simulate values (under the null) equal to \n",
    "# observed value (0.019....)\n",
    "# and further in direction of alternative (right)\n",
    "\n",
    "# conclusion: we fail to reject the null (simpler terms: null hypothesis might be good)\n",
    "# in other terms, we lean toward the null"
   ]
  },
  {
   "cell_type": "markdown",
   "metadata": {},
   "source": [
    "Are the data consistent with the null hypothesis?"
   ]
  },
  {
   "cell_type": "markdown",
   "metadata": {},
   "source": [
    "## Example: sleep survey"
   ]
  },
  {
   "cell_type": "code",
   "execution_count": null,
   "metadata": {},
   "outputs": [],
   "source": [
    "survey = Table.read_table('data/sleep_survey.csv')\n",
    "survey"
   ]
  },
  {
   "cell_type": "code",
   "execution_count": null,
   "metadata": {},
   "outputs": [],
   "source": [
    "def simplify(sleep_position):\n",
    "    if sleep_position == 'On your left side' or sleep_position == 'On your right side':\n",
    "        return 'side'\n",
    "    else:\n",
    "        return 'back or stomach'\n",
    "    \n",
    "survey = survey.with_column(\n",
    "    'position',\n",
    "    survey.apply(simplify, 'Sleep position')\n",
    ").select('position', 'Hours of sleep')\n",
    "\n",
    "survey"
   ]
  },
  {
   "cell_type": "code",
   "execution_count": null,
   "metadata": {},
   "outputs": [],
   "source": [
    "survey.group('position', np.average)"
   ]
  },
  {
   "cell_type": "markdown",
   "metadata": {},
   "source": [
    "Null hypothesis: Any differences between average hours of sleep between back/stomach sleepers or side sleepers is due to chance.\n"
   ]
  },
  {
   "cell_type": "markdown",
   "metadata": {},
   "source": [
    "Alternative hypothesis: One of the groups get more sleep on average"
   ]
  },
  {
   "cell_type": "markdown",
   "metadata": {},
   "source": [
    "Test statistic: Absolute value of (Average hours of sleep for side - Average hours of sleep for back/stomach)\n",
    "\n",
    "Fill in the blank with \"Bigger\" or \"Smaller\":\n",
    "\n",
    "Larger values of the test statistic favor the alternative"
   ]
  },
  {
   "cell_type": "code",
   "execution_count": null,
   "metadata": {},
   "outputs": [],
   "source": [
    "def compute_test_statistic(tbl):\n",
    "    grouped = tbl.group('position', np.average)\n",
    "    avgs = grouped.column('Hours of sleep average')\n",
    "    #print(avgs)\n",
    "    return abs(avgs.item(1) - avgs.item(0))"
   ]
  },
  {
   "cell_type": "code",
   "execution_count": null,
   "metadata": {},
   "outputs": [],
   "source": [
    "obs_test_stat = compute_test_statistic(survey)\n",
    "obs_test_stat"
   ]
  },
  {
   "cell_type": "code",
   "execution_count": null,
   "metadata": {},
   "outputs": [],
   "source": [
    "random_labels = survey.sample(with_replacement=False).column('position')"
   ]
  },
  {
   "cell_type": "code",
   "execution_count": null,
   "metadata": {},
   "outputs": [],
   "source": [
    "def simulate_under_null():\n",
    "    random_labels = survey.sample(with_replacement=False).column('position')\n",
    "    relabeled_tbl = survey.with_column('position', random_labels)\n",
    "    return compute_test_statistic(relabeled_tbl)\n"
   ]
  },
  {
   "cell_type": "code",
   "execution_count": null,
   "metadata": {
    "scrolled": true
   },
   "outputs": [],
   "source": [
    "simulated_diffs = make_array()\n",
    "for i in np.arange(1000):\n",
    "    null_stat = simulate_under_null()\n",
    "    simulated_diffs = np.append(simulated_diffs, null_stat)"
   ]
  },
  {
   "cell_type": "code",
   "execution_count": null,
   "metadata": {},
   "outputs": [],
   "source": [
    "Table().with_column('Simulated difference', simulated_diffs).hist(0)"
   ]
  },
  {
   "cell_type": "code",
   "execution_count": null,
   "metadata": {},
   "outputs": [],
   "source": [
    "obs_test_stat"
   ]
  },
  {
   "cell_type": "code",
   "execution_count": null,
   "metadata": {},
   "outputs": [],
   "source": [
    "np.mean(simulated_diffs <= obs_test_stat)"
   ]
  },
  {
   "cell_type": "code",
   "execution_count": null,
   "metadata": {},
   "outputs": [],
   "source": [
    "(len(simulated_diffs <= obs_test_stat ))/1000"
   ]
  },
  {
   "cell_type": "markdown",
   "metadata": {},
   "source": [
    "Are the data consistent with the null hypothesis?"
   ]
  }
 ],
 "metadata": {
  "kernelspec": {
   "display_name": "Python 3 (ipykernel)",
   "language": "python",
   "name": "python3"
  },
  "language_info": {
   "codemirror_mode": {
    "name": "ipython",
    "version": 3
   },
   "file_extension": ".py",
   "mimetype": "text/x-python",
   "name": "python",
   "nbconvert_exporter": "python",
   "pygments_lexer": "ipython3",
   "version": "3.10.6"
  },
  "toc": {
   "base_numbering": 1,
   "nav_menu": {},
   "number_sections": false,
   "sideBar": true,
   "skip_h1_title": false,
   "title_cell": "Table of Contents",
   "title_sidebar": "Contents",
   "toc_cell": false,
   "toc_position": {},
   "toc_section_display": true,
   "toc_window_display": false
  }
 },
 "nbformat": 4,
 "nbformat_minor": 2
}
